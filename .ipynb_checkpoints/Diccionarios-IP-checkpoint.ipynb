{
 "cells": [
  {
   "cell_type": "markdown",
   "metadata": {},
   "source": [
    "# Diccionarios\n",
    "Los diccionarios en python son estructuras de datos como las listas, la diferencia es que el acceso a los elementos de estos no se hace a través de *índices* sino a través de *llaves*. El siguiente ejemplo es un diccionario que representa a una persona:"
   ]
  },
  {
   "cell_type": "code",
   "execution_count": 1,
   "metadata": {},
   "outputs": [],
   "source": [
    "persona={\"Nombre\":\"Julio\",\"Apellido\":\"Lopez\",\"Cédula\":123041,\"Teléfono\":2720921,\"Edad\":15}"
   ]
  },
  {
   "cell_type": "markdown",
   "metadata": {},
   "source": [
    "## Añadiendo y eliminando datos\n",
    "Para añadir elementos a un diccionario basta con llamarlo, indicar la *llave* con la que se quiere acceder y el *valor*. Por ejemplo queremos añadir la llave \"Sexo\" al diccionario creado previamente:"
   ]
  },
  {
   "cell_type": "code",
   "execution_count": 2,
   "metadata": {},
   "outputs": [
    {
     "name": "stdout",
     "output_type": "stream",
     "text": [
      "{'Nombre': 'Julio', 'Apellido': 'Lopez', 'Cédula': 123041, 'Teléfono': 2720921, 'Edad': 15, 'Sexo': 'Masculino'}\n"
     ]
    }
   ],
   "source": [
    "persona[\"Sexo\"]=\"Masculino\"\n",
    "\n",
    "print(persona)"
   ]
  },
  {
   "cell_type": "markdown",
   "metadata": {},
   "source": [
    "Así como podemos añadir también podemos eliminar elementos de un diccionario con **del** por ejemplo podemos eliminar la llave sexo y su valor de la siguiente manera:"
   ]
  },
  {
   "cell_type": "code",
   "execution_count": 3,
   "metadata": {},
   "outputs": [
    {
     "name": "stdout",
     "output_type": "stream",
     "text": [
      "{'Nombre': 'Julio', 'Apellido': 'Lopez', 'Cédula': 123041, 'Teléfono': 2720921, 'Edad': 15}\n"
     ]
    }
   ],
   "source": [
    "del persona[\"Sexo\"]\n",
    "\n",
    "print(persona)"
   ]
  },
  {
   "cell_type": "markdown",
   "metadata": {},
   "source": [
    "## Accediendo a los datos\n",
    "Para acceder a los datos de un diccionario es necesario conocer la llave y se puede hacer de dos formas. Por ejemplo queremos conocer la cédula de la persona."
   ]
  },
  {
   "cell_type": "markdown",
   "metadata": {},
   "source": [
    "### Forma #1\n",
    "Esta forma es similar a como se accede a una lista, en la medida en la que se usa el nombre y los **[ ]** que llevan dentro la llave de la cual se quiere obtener el valor"
   ]
  },
  {
   "cell_type": "code",
   "execution_count": 4,
   "metadata": {},
   "outputs": [
    {
     "name": "stdout",
     "output_type": "stream",
     "text": [
      "123041\n"
     ]
    }
   ],
   "source": [
    "print(persona[\"Cédula\"])"
   ]
  },
  {
   "cell_type": "markdown",
   "metadata": {},
   "source": [
    "### Forma #2\n",
    "Esta forma es distinta a la anterior pues se hace uso de la función **get()** que recibe por parámetro la llave de la cual se quiere obtener el valor"
   ]
  },
  {
   "cell_type": "code",
   "execution_count": 5,
   "metadata": {
    "scrolled": true
   },
   "outputs": [
    {
     "name": "stdout",
     "output_type": "stream",
     "text": [
      "123041\n"
     ]
    }
   ],
   "source": [
    "print(persona.get(\"Cédula\"))"
   ]
  },
  {
   "cell_type": "markdown",
   "metadata": {},
   "source": [
    "## Llaves y valores\n",
    "### Llaves\n",
    "Hasta ahí, todo bien. Ahora supongamos que queremos conocer todas las *llaves* de un diccionario, para esto hacemos uso de la función **keys()** la cual devuelve un objeto iterable similar a una lista con todas las *llaves* del diccionario. Veamos un ejemplo con el diccionario persona:"
   ]
  },
  {
   "cell_type": "code",
   "execution_count": 6,
   "metadata": {},
   "outputs": [
    {
     "name": "stdout",
     "output_type": "stream",
     "text": [
      "dict_keys(['Nombre', 'Apellido', 'Cédula', 'Teléfono', 'Edad'])\n"
     ]
    }
   ],
   "source": [
    "print(persona.keys())"
   ]
  },
  {
   "cell_type": "markdown",
   "metadata": {},
   "source": [
    "#### Recorriendo las llaves\n",
    "Existen dos formas de recorrer las llaves de un diccionario"
   ]
  },
  {
   "cell_type": "markdown",
   "metadata": {},
   "source": [
    "##### Forma #1\n",
    "Esta forma hace uso del objeto iterable que devuelve la funcion **keys()** y se mueve por cada elemento perteneciente a él"
   ]
  },
  {
   "cell_type": "code",
   "execution_count": 7,
   "metadata": {},
   "outputs": [
    {
     "name": "stdout",
     "output_type": "stream",
     "text": [
      "Nombre\n",
      "Apellido\n",
      "Cédula\n",
      "Teléfono\n",
      "Edad\n"
     ]
    }
   ],
   "source": [
    "for llave in persona.keys():\n",
    "    \n",
    "    print(llave)"
   ]
  },
  {
   "cell_type": "markdown",
   "metadata": {},
   "source": [
    "##### Forma #2"
   ]
  },
  {
   "cell_type": "code",
   "execution_count": 8,
   "metadata": {},
   "outputs": [
    {
     "name": "stdout",
     "output_type": "stream",
     "text": [
      "Nombre\n",
      "Apellido\n",
      "Cédula\n",
      "Teléfono\n",
      "Edad\n"
     ]
    }
   ],
   "source": [
    "for llave in persona:\n",
    "    \n",
    "    print(llave)"
   ]
  },
  {
   "cell_type": "markdown",
   "metadata": {},
   "source": [
    "Sin embargo no se puede acceder con un índice a un elemento de este objeto "
   ]
  },
  {
   "cell_type": "code",
   "execution_count": 9,
   "metadata": {},
   "outputs": [
    {
     "ename": "TypeError",
     "evalue": "'dict_keys' object is not subscriptable",
     "output_type": "error",
     "traceback": [
      "\u001b[1;31m---------------------------------------------------------------------------\u001b[0m",
      "\u001b[1;31mTypeError\u001b[0m                                 Traceback (most recent call last)",
      "\u001b[1;32m<ipython-input-9-19947d2bcbe4>\u001b[0m in \u001b[0;36m<module>\u001b[1;34m\u001b[0m\n\u001b[1;32m----> 1\u001b[1;33m \u001b[0mprint\u001b[0m\u001b[1;33m(\u001b[0m\u001b[0mpersona\u001b[0m\u001b[1;33m.\u001b[0m\u001b[0mkeys\u001b[0m\u001b[1;33m(\u001b[0m\u001b[1;33m)\u001b[0m\u001b[1;33m[\u001b[0m\u001b[1;36m0\u001b[0m\u001b[1;33m]\u001b[0m\u001b[1;33m)\u001b[0m\u001b[1;33m\u001b[0m\u001b[1;33m\u001b[0m\u001b[0m\n\u001b[0m",
      "\u001b[1;31mTypeError\u001b[0m: 'dict_keys' object is not subscriptable"
     ]
    }
   ],
   "source": [
    "print(persona.keys()[0])"
   ]
  },
  {
   "cell_type": "markdown",
   "metadata": {},
   "source": [
    "Para poder hacerlo primero hay que convertir este objeto a lista así:"
   ]
  },
  {
   "cell_type": "code",
   "execution_count": null,
   "metadata": {},
   "outputs": [],
   "source": [
    "llaves=list(persona.keys())\n",
    "print(llaves[0])\n"
   ]
  },
  {
   "cell_type": "markdown",
   "metadata": {},
   "source": [
    "### Valores \n",
    "Sin embargo, así como podemos acceder a las llaves del diccionario también podemos acceder a los valores, para esto podemos hacer uso de la función **values()** la cual, al igual que la función **keys()** devuelve un objeto iterable pero esta vez no con las llaves sino con los valores del diccionario. Veamos todos los valores del diccionario persona:"
   ]
  },
  {
   "cell_type": "code",
   "execution_count": null,
   "metadata": {},
   "outputs": [],
   "source": [
    "print(persona.values())"
   ]
  },
  {
   "cell_type": "markdown",
   "metadata": {},
   "source": [
    "#### Recorriendo los valores\n",
    "Podemos recorrer los valores de la siguiente manera, haciendo uso de los elementos que la lista que devuelve la función **values()**"
   ]
  },
  {
   "cell_type": "code",
   "execution_count": null,
   "metadata": {},
   "outputs": [],
   "source": [
    "for valor in persona.values():\n",
    "    \n",
    "    print(valor)"
   ]
  },
  {
   "cell_type": "markdown",
   "metadata": {},
   "source": [
    "Al igual que con el objeto iterable que devuelve **keys()** no es posible acceder a un valor de acuerdo a un índice sin antes haberlo pasado a lista"
   ]
  },
  {
   "cell_type": "code",
   "execution_count": null,
   "metadata": {},
   "outputs": [],
   "source": [
    "valores=list(persona.values())\n",
    "print(valores[0])\n"
   ]
  },
  {
   "cell_type": "markdown",
   "metadata": {},
   "source": [
    "### Imprimamos el valor de acuerdo a la llave\n"
   ]
  },
  {
   "cell_type": "code",
   "execution_count": null,
   "metadata": {},
   "outputs": [],
   "source": [
    "for llave in persona.keys():\n",
    "    print(\"Llave:\",llave) #Imprimo la llave\n",
    "    print(\"Valor\",persona[llave]) #Accedo al valor con la llave y lo imprimo\n",
    "    print(\"-----------------\")"
   ]
  },
  {
   "cell_type": "markdown",
   "metadata": {},
   "source": [
    "Pero eso no es todo, se puede acceder a la vez a las parejas *llave* *valor* del diccionario haciendo uso de la función **items()** la cual devuelve un objeto iterable de tuplas que contiene en la primer posición la llave y en la segunda el valor. Veamos esto para cada pareja *llave valor* del diccionario persona: "
   ]
  },
  {
   "cell_type": "code",
   "execution_count": null,
   "metadata": {
    "scrolled": false
   },
   "outputs": [],
   "source": [
    "print(persona.items())"
   ]
  },
  {
   "cell_type": "markdown",
   "metadata": {},
   "source": [
    "Ahora hagamos uso de la función **items()** para imprimir de forma ordenada las llaves y valores del diccionario persona"
   ]
  },
  {
   "cell_type": "code",
   "execution_count": null,
   "metadata": {},
   "outputs": [],
   "source": [
    "for pareja in persona.items(): #Recorro toda la lista de parejas llave-valor del diccionario persona\n",
    "    \n",
    "    print(\"Llave:\",pareja[0]) #Imprimo la llave pues está en la primer posición\n",
    "    \n",
    "    print(\"Valor:\",pareja[1]) #Imprimo el valor pues está en la segunda posición\n",
    "    \n",
    "    print(\"-----------------------\") #Separo"
   ]
  },
  {
   "cell_type": "markdown",
   "metadata": {},
   "source": [
    "También podemos aprovechar la pareja *llave-valor* que nos devuelve **items()** para declarar las variables en el orden que es (primero llave y luego valor) cuando declaremos el for, es decir:"
   ]
  },
  {
   "cell_type": "code",
   "execution_count": null,
   "metadata": {},
   "outputs": [],
   "source": [
    "for llave,valor in persona.items(): #Recorro toda la lista de parejas llave-valor del diccionario persona\n",
    "    \n",
    "    print(\"Llave:\",llave) #Imprimo la llave \n",
    "    \n",
    "    print(\"Valor:\",valor) #Imprimo el valor\n",
    "    \n",
    "    print(\"-----------------------\") #Separo"
   ]
  },
  {
   "cell_type": "markdown",
   "metadata": {},
   "source": [
    "Al igual que con los objetos iterables que devuelven **keys()** y **values()** no es posible acceder a una pareja de acuerdo a un índice sin haber pasado este objeto a lista"
   ]
  },
  {
   "cell_type": "code",
   "execution_count": null,
   "metadata": {},
   "outputs": [],
   "source": [
    "pareja=list(persona.items())\n",
    "print(pareja[0])"
   ]
  },
  {
   "cell_type": "markdown",
   "metadata": {},
   "source": [
    "## Diccionarios de diccionarios\n",
    "Sin embargo, al igual que en las listas se pueden hacer listas de listas, en los diccionarios se pueden hacer diccionarios de diccionarios. Por ejemplo, podemos hacer una especie de libreta de contactos la cual sería un diccionario de diccionarios persona cuya llave sería un apodo:"
   ]
  },
  {
   "cell_type": "code",
   "execution_count": null,
   "metadata": {},
   "outputs": [],
   "source": [
    "libreta={\"Julianchin\":{\"Nombre\":\"Julian\",\"Apellido\":\"Lopez\",\"Cédula\":123041,\"Teléfono\":2720921,\"Edad\":15},\n",
    "         \"Salacho\":{\"Nombre\":\"Carlos\",\"Apellido\":\"Perez\",\"Cédula\":1230445,\"Teléfono\":272721,\"Edad\":25},\n",
    "         \"Oso\":{\"Nombre\":\"Jhon\",\"Apellido\":\"Ruiz\",\"Cédula\":1213445,\"Teléfono\":272453,\"Edad\":21},\n",
    "         \"Pollo\":{\"Nombre\":\"Eduar\",\"Apellido\":\"Marin\",\"Cédula\":445122,\"Teléfono\":2750921,\"Edad\":18},\n",
    "         \"Gato\":{\"Nombre\":\"Nicolás\",\"Apellido\":\"Guarin\",\"Cédula\":14790445,\"Teléfono\":278521,\"Edad\":13}\n",
    "        }"
   ]
  },
  {
   "cell_type": "markdown",
   "metadata": {},
   "source": [
    "### Recorrido \n",
    "Podemos usar las funciones **values()**, **keys()** e **items()** en este nuevo diccionario de diccionarios para ver qué obtenemos\n",
    "#### Recorriendo las llaves"
   ]
  },
  {
   "cell_type": "code",
   "execution_count": null,
   "metadata": {},
   "outputs": [],
   "source": [
    "for llave in libreta.keys():\n",
    "    \n",
    "    print(llave) #Imprimo el apodo de la persona en la libreta\n",
    "    "
   ]
  },
  {
   "cell_type": "markdown",
   "metadata": {},
   "source": [
    "#### Recorriendo los valores"
   ]
  },
  {
   "cell_type": "code",
   "execution_count": null,
   "metadata": {},
   "outputs": [],
   "source": [
    "for valor in libreta.values():\n",
    "    \n",
    "    print(valor) #Imprimo el diccionario con la información de la persona en la libreta\n",
    "    "
   ]
  },
  {
   "cell_type": "markdown",
   "metadata": {},
   "source": [
    "#### Recorriendo llaves y valores a la vez"
   ]
  },
  {
   "cell_type": "code",
   "execution_count": null,
   "metadata": {},
   "outputs": [],
   "source": [
    "for llave in libreta.keys():\n",
    "    valor=libreta[llave] #Accedo a el valor con la llave\n",
    "    print(\"Llave:\",llave)\n",
    "    print(\"Valor:\",valor)\n",
    "    print(\"------------\")"
   ]
  },
  {
   "cell_type": "markdown",
   "metadata": {},
   "source": [
    "#### Recorriendo los items\n",
    "##### Forma #1"
   ]
  },
  {
   "cell_type": "code",
   "execution_count": null,
   "metadata": {},
   "outputs": [],
   "source": [
    "for pareja in libreta.items():\n",
    "    \n",
    "    print(\"Llave:\",pareja[0]) #Imprimo la llave, en este caso es el apodo\n",
    "    \n",
    "    print(\"Valor:\",pareja[1]) #Imprimo el valor, en este caso la información de la persona contenida en un diccionario\n",
    "    \n",
    "    print(\"-----------------\")    "
   ]
  },
  {
   "cell_type": "markdown",
   "metadata": {},
   "source": [
    "##### Forma #2"
   ]
  },
  {
   "cell_type": "code",
   "execution_count": null,
   "metadata": {},
   "outputs": [],
   "source": [
    "for llave,valor in libreta.items():\n",
    "    \n",
    "    print(\"Llave:\",llave) #Imprimo la llave, en este caso es el apodo\n",
    "    \n",
    "    print(\"Valor:\",valor) #Imprimo el valor, en este caso la información de la persona contenida en un diccionario\n",
    "    \n",
    "    print(\"-----------------\")    "
   ]
  },
  {
   "cell_type": "markdown",
   "metadata": {},
   "source": [
    "## Ejercicios\n",
    "### Ejercicio #1\n",
    "Ahora que sabemos como recorrer un diccionario normal juguemos con un diccionario de diccionarios.\n",
    "Para esto digamos que queremos saber el apodo de la persona más vieja en la libreta de contactos, el código sería el siguiente:"
   ]
  },
  {
   "cell_type": "markdown",
   "metadata": {},
   "source": [
    "#### Forma #1 (Haciendo uso de .keys())"
   ]
  },
  {
   "cell_type": "code",
   "execution_count": null,
   "metadata": {},
   "outputs": [],
   "source": [
    "edad_viejo=0\n",
    "\n",
    "apodo_viejo=\"\"\n",
    "\n",
    "for llave in libreta.keys(): #Recorro todas las llaves\n",
    "    \n",
    "    apodo=llave #La llave es el apodo, así creamos el diccionario\n",
    "    \n",
    "    informacion=libreta[llave] #Como sé que el apodo es una llave en la libreta, \n",
    "                               #para acceder a la información lo hago con la llave, \n",
    "                               #esto me devuelve el diccionario con la información.\n",
    "            \n",
    "    if(informacion[\"Edad\"]>edad_viejo): \n",
    "        \n",
    "        edad_viejo=informacion[\"Edad\"]\n",
    "        \n",
    "        apodo_viejo=apodo\n",
    "        \n",
    "print(apodo_viejo)"
   ]
  },
  {
   "cell_type": "markdown",
   "metadata": {},
   "source": [
    "#### Forma #2 (Haciendo uso de .items())"
   ]
  },
  {
   "cell_type": "code",
   "execution_count": null,
   "metadata": {},
   "outputs": [],
   "source": [
    "edad_viejo=0\n",
    "\n",
    "apodo_viejo=\"\"\n",
    "\n",
    "for pareja in libreta.items(): #Recorro todas las llaves\n",
    "    \n",
    "    apodo=pareja[0] #Cómo sé que items me devuelve una tupla y en la primer posición está la llave, accedo a ella\n",
    "    \n",
    "    informacion=pareja[1] #Como sé que items me devuelve una tupla y en la segunda posición está el valor, accedo a él\n",
    "                          #Esto me devuelve el diccionario con la información\n",
    "        \n",
    "    if(informacion[\"Edad\"]>edad_viejo):\n",
    "        \n",
    "        edad_viejo=informacion[\"Edad\"]\n",
    "        \n",
    "        apodo_viejo=apodo\n",
    "        \n",
    "print(apodo_viejo)"
   ]
  },
  {
   "cell_type": "markdown",
   "metadata": {},
   "source": [
    "### Ejercicio #2\n",
    "Supongamos ahora que queremos conocer cuantas personas de la lista se encuentran en cada década, es decir, si tengo 15 años me encuentro en la segunda década y así... Para este tipo de ejercicios donde se requiere contar de acuerdo a un valor es bastante útil hacer uso de diccionarios pues el valor del que queremos contar cuantos queremos sería la llave y el valor sería el contador. Dado lo anterior no haría falta guardar en alguna otra variable cuantos elementos llevamos de uno en específico sino que accederíamos al diccionario e iriamos contando."
   ]
  },
  {
   "cell_type": "code",
   "execution_count": null,
   "metadata": {},
   "outputs": [],
   "source": [
    "respuesta={} #Diccionario donde voy a guardar la respuesta para cada década, la llave va a ser la década y el valor la \n",
    "             #cantidad de personas en esa decada\n",
    "        \n",
    "for llave in libreta.keys(): #Recorro las llaves \n",
    "    \n",
    "    #Esta vez no hace falta guardar el apodo pero si pedir la información\n",
    "    \n",
    "    informacion=libreta[llave] #Pido el valor de esa llave, es decir, el diccionario con la información\n",
    "    \n",
    "    #información[\"edad\"]//10 me da la década-1 donde está la persona, por esto sumo 1 después\n",
    "    \n",
    "    if((informacion[\"Edad\"]//10)+1 not in respuesta.keys()): #Reviso que la década no esté en la respuesta o más bien que no\n",
    "                                                             # haya personas en esa década \n",
    "            \n",
    "        respuesta[(informacion[\"Edad\"]//10)+1]=1 #Le asigno ese valor pues es el primero que encuentro en esa decada\n",
    "        \n",
    "    else: #Si ya existe una persona en esa década (Si la llave ya existe ne respuesta) sumo 1 al contador (valor) de esa \n",
    "          #década\n",
    "        \n",
    "        respuesta[(informacion[\"Edad\"]//10)+1]+=1\n",
    "        \n",
    "print(respuesta)"
   ]
  },
  {
   "cell_type": "markdown",
   "metadata": {},
   "source": [
    "Si verificamos en la libreta nos damos cuenta que efectivamente hay 3 personas en su segunda década (entre 10 y 19 años) y 2 personas en su tercer década (entre 20 y 29 años)"
   ]
  }
 ],
 "metadata": {
  "kernelspec": {
   "display_name": "Python 3",
   "language": "python",
   "name": "python3"
  },
  "language_info": {
   "codemirror_mode": {
    "name": "ipython",
    "version": 3
   },
   "file_extension": ".py",
   "mimetype": "text/x-python",
   "name": "python",
   "nbconvert_exporter": "python",
   "pygments_lexer": "ipython3",
   "version": "3.7.6"
  }
 },
 "nbformat": 4,
 "nbformat_minor": 4
}
